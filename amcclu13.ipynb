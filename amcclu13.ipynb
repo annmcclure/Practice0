{
  "cells": [
    {
      "cell_type": "markdown",
      "metadata": {
        "id": "view-in-github",
        "colab_type": "text"
      },
      "source": [
        "<a href=\"https://colab.research.google.com/github/annmcclure/Practice0/blob/main/amcclu13.ipynb\" target=\"_parent\"><img src=\"https://colab.research.google.com/assets/colab-badge.svg\" alt=\"Open In Colab\"/></a>"
      ]
    },
    {
      "cell_type": "code",
      "source": [
        "!pip install bson"
      ],
      "metadata": {
        "id": "ifSoLXLTVtm0",
        "outputId": "be5543e7-5760-429e-db82-6a16581170a6",
        "colab": {
          "base_uri": "https://localhost:8080/"
        }
      },
      "execution_count": 9,
      "outputs": [
        {
          "output_type": "stream",
          "name": "stdout",
          "text": [
            "Collecting bson\n",
            "  Downloading bson-0.5.10.tar.gz (10 kB)\n",
            "  Preparing metadata (setup.py) ... \u001b[?25l\u001b[?25hdone\n",
            "Requirement already satisfied: python-dateutil>=2.4.0 in /usr/local/lib/python3.10/dist-packages (from bson) (2.8.2)\n",
            "Requirement already satisfied: six>=1.9.0 in /usr/local/lib/python3.10/dist-packages (from bson) (1.16.0)\n",
            "Building wheels for collected packages: bson\n",
            "  Building wheel for bson (setup.py) ... \u001b[?25l\u001b[?25hdone\n",
            "  Created wheel for bson: filename=bson-0.5.10-py3-none-any.whl size=11975 sha256=63a70ce51b6b577585ea135acaef5ed6b9f9be8a0f31e2d688ac7cb91a762fe1\n",
            "  Stored in directory: /root/.cache/pip/wheels/36/49/3b/8b33954dfae7a176009c4d721a45af56c8a9c1cdc3ee947945\n",
            "Successfully built bson\n",
            "Installing collected packages: bson\n",
            "Successfully installed bson-0.5.10\n"
          ]
        }
      ]
    },
    {
      "cell_type": "code",
      "source": [
        "!pip install pymongo"
      ],
      "metadata": {
        "id": "D3vZ2vxYV86C",
        "outputId": "7f735bad-93fe-4626-fa6d-dd501385d492",
        "colab": {
          "base_uri": "https://localhost:8080/"
        }
      },
      "execution_count": 10,
      "outputs": [
        {
          "output_type": "stream",
          "name": "stdout",
          "text": [
            "Collecting pymongo\n",
            "  Downloading pymongo-4.8.0-cp310-cp310-manylinux_2_17_x86_64.manylinux2014_x86_64.whl.metadata (22 kB)\n",
            "Collecting dnspython<3.0.0,>=1.16.0 (from pymongo)\n",
            "  Downloading dnspython-2.6.1-py3-none-any.whl.metadata (5.8 kB)\n",
            "Downloading pymongo-4.8.0-cp310-cp310-manylinux_2_17_x86_64.manylinux2014_x86_64.whl (1.2 MB)\n",
            "\u001b[2K   \u001b[90m━━━━━━━━━━━━━━━━━━━━━━━━━━━━━━━━━━━━━━━━\u001b[0m \u001b[32m1.2/1.2 MB\u001b[0m \u001b[31m11.0 MB/s\u001b[0m eta \u001b[36m0:00:00\u001b[0m\n",
            "\u001b[?25hDownloading dnspython-2.6.1-py3-none-any.whl (307 kB)\n",
            "\u001b[2K   \u001b[90m━━━━━━━━━━━━━━━━━━━━━━━━━━━━━━━━━━━━━━━━\u001b[0m \u001b[32m307.7/307.7 kB\u001b[0m \u001b[31m10.4 MB/s\u001b[0m eta \u001b[36m0:00:00\u001b[0m\n",
            "\u001b[?25hInstalling collected packages: dnspython, pymongo\n",
            "Successfully installed dnspython-2.6.1 pymongo-4.8.0\n"
          ]
        }
      ]
    },
    {
      "cell_type": "code",
      "execution_count": 11,
      "metadata": {
        "id": "UVLRNFSvVajV",
        "outputId": "569fc9e1-6021-49f4-b9d0-88c2aa09aa3c",
        "colab": {
          "base_uri": "https://localhost:8080/"
        }
      },
      "outputs": [
        {
          "output_type": "stream",
          "name": "stdout",
          "text": [
            "IPython version:      %6.6s 7.34.0\n"
          ]
        }
      ],
      "source": [
        "import IPython\n",
        "import json\n",
        "# Numpy is a library for working with Arrays\n",
        "import numpy as np\n",
        "# SciPy implements many different numerical algorithms\n",
        "import scipy as sp\n",
        "# Pandas is good with data tables\n",
        "import pandas as pd\n",
        "# Module for plotting\n",
        "import matplotlib\n",
        "#BeautifulSoup parses HTML documents (once you get them via requests)\n",
        "import bs4\n",
        "# Nltk helps with some natural language tasks, like stemming\n",
        "import nltk\n",
        "# Bson is a binary format of json to be stored in databases\n",
        "import bson\n",
        "# Mongo is one of common nosql databases\n",
        "# it stores/searches json documents natively\n",
        "import pymongo\n",
        "print (\"IPython version:      %6.6s\", IPython.__version__)"
      ]
    },
    {
      "cell_type": "code",
      "execution_count": 12,
      "metadata": {
        "id": "crZEbnGxVajW",
        "outputId": "5910fb20-dd3f-4cb7-822b-a266c3364666",
        "colab": {
          "base_uri": "https://localhost:8080/"
        }
      },
      "outputs": [
        {
          "output_type": "stream",
          "name": "stdout",
          "text": [
            "Make a 2 row x 3 column array of random numbers\n",
            "[[0.51184124 0.16799921 0.34352525]\n",
            " [0.86960051 0.86038734 0.69205379]]\n",
            "Add 5 to every element\n",
            "[[5.51184124 5.16799921 5.34352525]\n",
            " [5.86960051 5.86038734 5.69205379]]\n",
            "Get the first row\n",
            "[5.51184124 5.16799921 5.34352525]\n"
          ]
        }
      ],
      "source": [
        "#Here is what numpy can do\\n\",\n",
        "print (\"Make a 2 row x 3 column array of random numbers\")\n",
        "x = np.random.random((2, 3))\n",
        "print (x)\n",
        "\n",
        "#array operation (as in R)\n",
        "print (\"Add 5 to every element\")\n",
        "x = x + 5\n",
        "print (x)\n",
        "\n",
        "# get a slice (first row) (as in R)\n",
        "print (\"Get the first row\")\n",
        "print (x[0, :])"
      ]
    },
    {
      "cell_type": "code",
      "execution_count": 13,
      "metadata": {
        "id": "vTcScKSNVajW",
        "outputId": "0f55eda7-0f12-403d-bccd-fb733616eb49",
        "colab": {
          "base_uri": "https://localhost:8080/"
        }
      },
      "outputs": [
        {
          "output_type": "execute_result",
          "data": {
            "text/plain": [
              "<function ndarray.any>"
            ]
          },
          "metadata": {},
          "execution_count": 13
        }
      ],
      "source": [
        "# IPython is quite modern: just press <TAB> at the end of the unfinished statement to see the documentation\n",
        "#       on possible completions.\n",
        "#       In the code cell below, type x.<TAB>, to find built-in operations for x\n",
        "x.any"
      ]
    },
    {
      "cell_type": "code",
      "execution_count": 14,
      "metadata": {
        "id": "8DbGahJeVajX",
        "outputId": "32cbaab7-0f8f-4c2b-d51d-7c9e2cccb378",
        "colab": {
          "base_uri": "https://localhost:8080/",
          "height": 430
        }
      },
      "outputs": [
        {
          "output_type": "display_data",
          "data": {
            "text/plain": [
              "<Figure size 640x480 with 1 Axes>"
            ],
            "image/png": "[encoded data removed]"
          },
          "metadata": {}
        }
      ],
      "source": [
        "%matplotlib inline\n",
        "import matplotlib.pyplot as plt\n",
        "heads = np.random.binomial(500, .5, size=500)\n",
        "histogram = plt.hist(heads, bins=10)"
      ]
    },
    {
      "cell_type": "markdown",
      "metadata": {
        "collapsed": true,
        "id": "Cx0S6PAiVajX"
      },
      "source": [
        "# Task 1\n",
        "## write a program to produce Fibonacci numbers up to 1000000"
      ]
    },
    {
      "cell_type": "code",
      "execution_count": 21,
      "metadata": {
        "id": "AaeuGAGDVajY",
        "outputId": "0ebb2b65-4415-4255-b714-135346b5f32e",
        "colab": {
          "base_uri": "https://localhost:8080/"
        }
      },
      "outputs": [
        {
          "output_type": "stream",
          "name": "stdout",
          "text": [
            "0 1 1 1 2 3 5 8 13 21 34 55 89 144 233 377 610 987 1597 2584 4181 6765 10946 17711 28657 46368 75025 121393 196418 317811 514229 832040 \n"
          ]
        }
      ],
      "source": [
        "num = 1000000\n",
        "n3 = 0\n",
        "n1, n2 = 0, 1\n",
        "print(n1, n2, end=\" \")\n",
        "while (n3 < num):\n",
        "    n1 = n2\n",
        "    n2 = n3\n",
        "    n3 = n1 + n2\n",
        "    if (n3 < num):\n",
        "      print(n3, end=\" \")\n",
        "    else:\n",
        "      break\n",
        "\n",
        "print()"
      ]
    },
    {
      "cell_type": "markdown",
      "metadata": {
        "id": "z9gy1-EaVajZ"
      },
      "source": [
        "# Task 2\n",
        "## write a program to simulate 1000 tosses of a fair coin (use np.random.binomial)\n",
        "## Calculate the mean and standard deviation of that sample"
      ]
    },
    {
      "cell_type": "code",
      "execution_count": 24,
      "metadata": {
        "collapsed": true,
        "id": "7wXnhcIHVajZ",
        "colab": {
          "base_uri": "https://localhost:8080/"
        },
        "outputId": "57038292-fcc5-4f87-9c82-5c488fdf19d8"
      },
      "outputs": [
        {
          "output_type": "stream",
          "name": "stdout",
          "text": [
            "[0 1 1 0 0 1 0 0 0 1 1 1 0 0 1 0 1 0 1 0 1 0 1 1 0 0 1 1 1 1 1 1 0 1 0 1 0\n",
            " 1 1 1 0 1 0 0 0 1 0 1 1 0 1 1 1 0 0 0 1 0 1 0 1 1 1 1 0 0 1 0 0 1 1 1 1 0\n",
            " 1 1 0 0 1 1 1 0 1 0 0 0 0 0 0 1 1 1 0 0 1 1 1 1 1 0 0 0 0 0 1 1 0 1 0 1 0\n",
            " 1 1 1 0 0 0 0 1 1 1 0 1 0 0 0 0 1 0 0 0 0 0 0 1 0 0 0 1 1 0 1 1 0 1 0 0 0\n",
            " 1 0 1 0 1 1 0 0 1 1 1 0 0 1 1 1 1 0 1 0 1 0 1 1 1 1 1 1 0 0 1 0 1 0 1 1 0\n",
            " 1 0 0 1 0 1 0 0 0 0 0 1 0 0 1 0 1 0 0 1 1 1 1 1 1 1 0 1 0 0 0 0 1 0 0 1 0\n",
            " 0 0 1 1 0 1 0 0 0 1 0 0 1 1 1 0 0 1 0 1 0 1 0 0 1 0 0 1 0 1 0 0 0 1 1 1 0\n",
            " 0 0 0 0 0 1 0 1 0 1 1 1 0 1 1 0 1 1 1 0 1 0 1 1 1 0 1 0 1 0 0 0 1 0 0 0 0\n",
            " 0 1 0 1 0 1 0 1 0 0 0 1 0 1 1 1 1 1 1 1 1 1 1 1 1 1 1 1 1 1 1 1 1 1 0 0 0\n",
            " 1 0 0 0 0 0 1 1 0 1 0 0 1 1 1 1 0 1 0 0 0 1 0 1 0 1 1 1 0 1 1 0 0 1 0 0 1\n",
            " 1 1 1 1 0 0 0 1 1 1 1 1 1 1 1 0 0 0 1 1 0 0 0 0 1 1 0 1 0 1 0 1 1 0 1 1 1\n",
            " 0 1 1 0 1 1 0 0 1 0 1 1 0 0 1 0 1 1 0 1 1 0 1 1 0 1 0 1 1 1 1 0 0 0 1 0 0\n",
            " 0 1 0 0 1 1 1 0 1 0 1 0 0 1 0 0 0 0 1 1 1 1 0 1 1 1 0 0 0 0 0 0 0 0 0 0 0\n",
            " 1 0 0 0 1 1 0 0 1 1 0 1 0 0 1 0 1 1 1 0 1 1 0 1 0 0 0 1 0 1 1 0 0 1 0 0 0\n",
            " 0 1 0 0 0 1 1 1 1 0 0 0 0 0 0 0 1 1 1 1 0 0 1 1 1 0 1 0 1 0 0 1 1 0 0 1 1\n",
            " 1 1 1 1 0 1 0 0 1 0 0 1 0 1 0 1 1 0 0 0 0 0 0 0 1 0 1 0 0 1 0 1 0 1 1 0 1\n",
            " 0 0 1 1 0 1 0 0 1 1 1 0 1 1 1 0 1 0 1 1 1 0 0 0 0 0 1 0 1 0 1 0 0 0 0 0 1\n",
            " 1 0 0 1 0 0 1 1 0 1 1 1 0 1 1 0 0 1 1 1 1 0 0 0 1 1 1 0 1 0 1 1 1 1 1 1 0\n",
            " 1 0 0 1 0 0 0 1 1 1 1 0 1 0 0 0 1 1 0 0 1 0 0 1 1 1 0 0 0 0 1 0 1 1 1 1 0\n",
            " 1 0 1 0 1 1 1 0 0 1 1 0 1 0 1 1 1 1 0 0 0 0 1 0 0 1 0 1 0 1 1 0 0 0 0 0 0\n",
            " 0 1 1 1 0 0 0 1 1 1 1 0 0 0 1 0 0 0 1 1 1 1 0 1 1 0 0 0 0 0 0 1 0 0 0 1 0\n",
            " 1 0 1 1 1 1 0 0 1 1 0 1 0 1 0 1 0 1 0 0 0 1 1 1 1 0 0 0 0 0 0 0 1 1 1 1 0\n",
            " 1 0 0 1 1 0 0 0 1 0 0 1 0 0 0 0 0 0 0 0 0 1 0 0 1 1 1 0 1 1 1 1 0 0 1 0 0\n",
            " 0 0 0 0 1 0 0 0 1 0 1 1 1 0 0 1 0 0 0 0 1 0 0 1 1 1 0 0 0 1 1 1 1 0 0 1 1\n",
            " 1 1 0 0 1 1 0 0 0 1 1 1 0 1 0 0 1 1 1 1 1 1 0 0 0 1 0 1 0 0 0 0 1 1 0 0 0\n",
            " 0 0 0 0 0 0 0 1 0 1 1 1 0 1 1 1 0 1 1 0 1 1 1 1 0 0 0 1 1 0 1 1 1 0 0 1 0\n",
            " 0 0 1 1 1 0 1 1 0 1 1 0 1 0 0 1 0 1 1 1 0 1 1 0 0 0 0 0 1 0 0 1 0 0 0 1 1\n",
            " 1]\n",
            "0.494\n",
            "0.4999639987039066\n"
          ]
        }
      ],
      "source": [
        "n = 1\n",
        "p = 0.5\n",
        "\n",
        "toss = np.random.binomial(n, p, size = 1000)\n",
        "print(toss)\n",
        "print(toss.mean())\n",
        "print(toss.std())\n"
      ]
    },
    {
      "cell_type": "markdown",
      "metadata": {
        "id": "3ug709otVajZ"
      },
      "source": [
        "# Task 3\n",
        "## Produce a scatterplot of y = 0.5*x+e where x has gaussian (0, 5) and e has gaussian (0, 1) distributions\n",
        "### use numpy.random.normal to generate gaussian distribution"
      ]
    },
    {
      "cell_type": "code",
      "execution_count": 31,
      "metadata": {
        "collapsed": true,
        "id": "GxrcF0NvVaja",
        "colab": {
          "base_uri": "https://localhost:8080/",
          "height": 430
        },
        "outputId": "d0f12115-b41c-4500-d09b-fdcdcbcd205a"
      },
      "outputs": [
        {
          "output_type": "display_data",
          "data": {
            "text/plain": [
              "<Figure size 640x480 with 1 Axes>"
            ],
            "image/png": "[encoded data removed]"
          },
          "metadata": {}
        }
      ],
      "source": [
        "x = []\n",
        "y = []\n",
        "\n",
        "for i in range(100):\n",
        "  n = np.random.normal(0,5)\n",
        "  x.append(n)\n",
        "  e = np.random.normal(0,1)\n",
        "  y.append(0.5*n+e)\n",
        "\n",
        "plt.scatter(x, y)\n",
        "plt.show()"
      ]
    }
  ],
  "metadata": {
    "kernelspec": {
      "display_name": "Python 3",
      "language": "python",
      "name": "python3"
    },
    "language_info": {
      "codemirror_mode": {
        "name": "ipython",
        "version": 3
      },
      "file_extension": ".py",
      "mimetype": "text/x-python",
      "name": "python",
      "nbconvert_exporter": "python",
      "pygments_lexer": "ipython3",
      "version": "3.5.2"
    },
    "colab": {
      "provenance": [],
      "include_colab_link": true
    }
  },
  "nbformat": 4,
  "nbformat_minor": 0
}